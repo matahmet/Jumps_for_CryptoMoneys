{
 "cells": [
  {
   "cell_type": "code",
   "execution_count": 50,
   "metadata": {},
   "outputs": [],
   "source": [
    "import pandas as pd\n",
    "df0=pd.read_csv('coin_Dogecoin.csv')"
   ]
  },
  {
   "cell_type": "code",
   "execution_count": 51,
   "metadata": {},
   "outputs": [
    {
     "data": {
      "text/html": [
       "<div>\n",
       "<style scoped>\n",
       "    .dataframe tbody tr th:only-of-type {\n",
       "        vertical-align: middle;\n",
       "    }\n",
       "\n",
       "    .dataframe tbody tr th {\n",
       "        vertical-align: top;\n",
       "    }\n",
       "\n",
       "    .dataframe thead th {\n",
       "        text-align: right;\n",
       "    }\n",
       "</style>\n",
       "<table border=\"1\" class=\"dataframe\">\n",
       "  <thead>\n",
       "    <tr style=\"text-align: right;\">\n",
       "      <th></th>\n",
       "      <th>SNo</th>\n",
       "      <th>Name</th>\n",
       "      <th>Symbol</th>\n",
       "      <th>Date</th>\n",
       "      <th>High</th>\n",
       "      <th>Low</th>\n",
       "      <th>Open</th>\n",
       "      <th>Close</th>\n",
       "      <th>Volume</th>\n",
       "      <th>Marketcap</th>\n",
       "    </tr>\n",
       "  </thead>\n",
       "  <tbody>\n",
       "    <tr>\n",
       "      <td>0</td>\n",
       "      <td>1</td>\n",
       "      <td>Dogecoin</td>\n",
       "      <td>DOGE</td>\n",
       "      <td>2013-12-16 23:59:59</td>\n",
       "      <td>0.000866</td>\n",
       "      <td>0.000150</td>\n",
       "      <td>0.000299</td>\n",
       "      <td>0.000205</td>\n",
       "      <td>0.000000e+00</td>\n",
       "      <td>1.509085e+06</td>\n",
       "    </tr>\n",
       "    <tr>\n",
       "      <td>1</td>\n",
       "      <td>2</td>\n",
       "      <td>Dogecoin</td>\n",
       "      <td>DOGE</td>\n",
       "      <td>2013-12-17 23:59:59</td>\n",
       "      <td>0.000289</td>\n",
       "      <td>0.000116</td>\n",
       "      <td>0.000207</td>\n",
       "      <td>0.000269</td>\n",
       "      <td>0.000000e+00</td>\n",
       "      <td>2.169688e+06</td>\n",
       "    </tr>\n",
       "    <tr>\n",
       "      <td>2</td>\n",
       "      <td>3</td>\n",
       "      <td>Dogecoin</td>\n",
       "      <td>DOGE</td>\n",
       "      <td>2013-12-18 23:59:59</td>\n",
       "      <td>0.000362</td>\n",
       "      <td>0.000205</td>\n",
       "      <td>0.000267</td>\n",
       "      <td>0.000362</td>\n",
       "      <td>0.000000e+00</td>\n",
       "      <td>3.188943e+06</td>\n",
       "    </tr>\n",
       "    <tr>\n",
       "      <td>3</td>\n",
       "      <td>4</td>\n",
       "      <td>Dogecoin</td>\n",
       "      <td>DOGE</td>\n",
       "      <td>2013-12-19 23:59:59</td>\n",
       "      <td>0.001520</td>\n",
       "      <td>0.000328</td>\n",
       "      <td>0.000395</td>\n",
       "      <td>0.001162</td>\n",
       "      <td>0.000000e+00</td>\n",
       "      <td>1.115034e+07</td>\n",
       "    </tr>\n",
       "    <tr>\n",
       "      <td>4</td>\n",
       "      <td>5</td>\n",
       "      <td>Dogecoin</td>\n",
       "      <td>DOGE</td>\n",
       "      <td>2013-12-20 23:59:59</td>\n",
       "      <td>0.001143</td>\n",
       "      <td>0.000662</td>\n",
       "      <td>0.001143</td>\n",
       "      <td>0.000704</td>\n",
       "      <td>0.000000e+00</td>\n",
       "      <td>7.284337e+06</td>\n",
       "    </tr>\n",
       "    <tr>\n",
       "      <td>...</td>\n",
       "      <td>...</td>\n",
       "      <td>...</td>\n",
       "      <td>...</td>\n",
       "      <td>...</td>\n",
       "      <td>...</td>\n",
       "      <td>...</td>\n",
       "      <td>...</td>\n",
       "      <td>...</td>\n",
       "      <td>...</td>\n",
       "      <td>...</td>\n",
       "    </tr>\n",
       "    <tr>\n",
       "      <td>2755</td>\n",
       "      <td>2756</td>\n",
       "      <td>Dogecoin</td>\n",
       "      <td>DOGE</td>\n",
       "      <td>2021-07-02 23:59:59</td>\n",
       "      <td>0.247997</td>\n",
       "      <td>0.238848</td>\n",
       "      <td>0.243982</td>\n",
       "      <td>0.245264</td>\n",
       "      <td>1.321471e+09</td>\n",
       "      <td>3.194925e+10</td>\n",
       "    </tr>\n",
       "    <tr>\n",
       "      <td>2756</td>\n",
       "      <td>2757</td>\n",
       "      <td>Dogecoin</td>\n",
       "      <td>DOGE</td>\n",
       "      <td>2021-07-03 23:59:59</td>\n",
       "      <td>0.250214</td>\n",
       "      <td>0.242454</td>\n",
       "      <td>0.245106</td>\n",
       "      <td>0.246411</td>\n",
       "      <td>9.170158e+08</td>\n",
       "      <td>3.210491e+10</td>\n",
       "    </tr>\n",
       "    <tr>\n",
       "      <td>2757</td>\n",
       "      <td>2758</td>\n",
       "      <td>Dogecoin</td>\n",
       "      <td>DOGE</td>\n",
       "      <td>2021-07-04 23:59:59</td>\n",
       "      <td>0.252567</td>\n",
       "      <td>0.243425</td>\n",
       "      <td>0.246425</td>\n",
       "      <td>0.246483</td>\n",
       "      <td>9.735115e+08</td>\n",
       "      <td>3.211767e+10</td>\n",
       "    </tr>\n",
       "    <tr>\n",
       "      <td>2758</td>\n",
       "      <td>2759</td>\n",
       "      <td>Dogecoin</td>\n",
       "      <td>DOGE</td>\n",
       "      <td>2021-07-05 23:59:59</td>\n",
       "      <td>0.246419</td>\n",
       "      <td>0.227838</td>\n",
       "      <td>0.246419</td>\n",
       "      <td>0.231614</td>\n",
       "      <td>1.267949e+09</td>\n",
       "      <td>3.018344e+10</td>\n",
       "    </tr>\n",
       "    <tr>\n",
       "      <td>2759</td>\n",
       "      <td>2760</td>\n",
       "      <td>Dogecoin</td>\n",
       "      <td>DOGE</td>\n",
       "      <td>2021-07-06 23:59:59</td>\n",
       "      <td>0.241910</td>\n",
       "      <td>0.229842</td>\n",
       "      <td>0.231216</td>\n",
       "      <td>0.234422</td>\n",
       "      <td>1.265920e+09</td>\n",
       "      <td>3.055252e+10</td>\n",
       "    </tr>\n",
       "  </tbody>\n",
       "</table>\n",
       "<p>2760 rows × 10 columns</p>\n",
       "</div>"
      ],
      "text/plain": [
       "       SNo      Name Symbol                 Date      High       Low  \\\n",
       "0        1  Dogecoin   DOGE  2013-12-16 23:59:59  0.000866  0.000150   \n",
       "1        2  Dogecoin   DOGE  2013-12-17 23:59:59  0.000289  0.000116   \n",
       "2        3  Dogecoin   DOGE  2013-12-18 23:59:59  0.000362  0.000205   \n",
       "3        4  Dogecoin   DOGE  2013-12-19 23:59:59  0.001520  0.000328   \n",
       "4        5  Dogecoin   DOGE  2013-12-20 23:59:59  0.001143  0.000662   \n",
       "...    ...       ...    ...                  ...       ...       ...   \n",
       "2755  2756  Dogecoin   DOGE  2021-07-02 23:59:59  0.247997  0.238848   \n",
       "2756  2757  Dogecoin   DOGE  2021-07-03 23:59:59  0.250214  0.242454   \n",
       "2757  2758  Dogecoin   DOGE  2021-07-04 23:59:59  0.252567  0.243425   \n",
       "2758  2759  Dogecoin   DOGE  2021-07-05 23:59:59  0.246419  0.227838   \n",
       "2759  2760  Dogecoin   DOGE  2021-07-06 23:59:59  0.241910  0.229842   \n",
       "\n",
       "          Open     Close        Volume     Marketcap  \n",
       "0     0.000299  0.000205  0.000000e+00  1.509085e+06  \n",
       "1     0.000207  0.000269  0.000000e+00  2.169688e+06  \n",
       "2     0.000267  0.000362  0.000000e+00  3.188943e+06  \n",
       "3     0.000395  0.001162  0.000000e+00  1.115034e+07  \n",
       "4     0.001143  0.000704  0.000000e+00  7.284337e+06  \n",
       "...        ...       ...           ...           ...  \n",
       "2755  0.243982  0.245264  1.321471e+09  3.194925e+10  \n",
       "2756  0.245106  0.246411  9.170158e+08  3.210491e+10  \n",
       "2757  0.246425  0.246483  9.735115e+08  3.211767e+10  \n",
       "2758  0.246419  0.231614  1.267949e+09  3.018344e+10  \n",
       "2759  0.231216  0.234422  1.265920e+09  3.055252e+10  \n",
       "\n",
       "[2760 rows x 10 columns]"
      ]
     },
     "execution_count": 51,
     "metadata": {},
     "output_type": "execute_result"
    }
   ],
   "source": [
    "df0"
   ]
  },
  {
   "cell_type": "code",
   "execution_count": 52,
   "metadata": {},
   "outputs": [],
   "source": [
    "x=df0[\"Close\"]"
   ]
  },
  {
   "cell_type": "code",
   "execution_count": 57,
   "metadata": {},
   "outputs": [
    {
     "data": {
      "text/plain": [
       "[3, 1481, 2676]"
      ]
     },
     "execution_count": 57,
     "metadata": {},
     "output_type": "execute_result"
    }
   ],
   "source": [
    "import math\n",
    "time_span=len(x)\n",
    "limit_days=[]\n",
    "boundary=round(math.log10(x[0]),0)+1\n",
    "for i in range(0,time_span):\n",
    "    if math.log10(x[i])>boundary:\n",
    "        limit_days.append(i)\n",
    "        boundary=boundary+1\n",
    "\n",
    "\n",
    "limit_days\n"
   ]
  },
  {
   "cell_type": "code",
   "execution_count": 59,
   "metadata": {},
   "outputs": [
    {
     "data": {
      "text/plain": [
       "0    0.000205\n",
       "1    0.000269\n",
       "2    0.000362\n",
       "3    0.001162\n",
       "4    0.000704\n",
       "Name: Close, dtype: float64"
      ]
     },
     "execution_count": 59,
     "metadata": {},
     "output_type": "execute_result"
    }
   ],
   "source": [
    "x[:5]"
   ]
  },
  {
   "cell_type": "code",
   "execution_count": 60,
   "metadata": {},
   "outputs": [
    {
     "data": {
      "text/plain": [
       "<Figure size 640x480 with 1 Axes>"
      ]
     },
     "metadata": {},
     "output_type": "display_data"
    }
   ],
   "source": [
    "from matplotlib import pyplot as plt\n",
    "plt.plot(x)\n"
   ]
  },
  {
   "cell_type": "code",
   "execution_count": 62,
   "metadata": {},
   "outputs": [],
   "source": [
    "plt.show()\n"
   ]
  },
  {
   "cell_type": "code",
   "execution_count": 40,
   "metadata": {},
   "outputs": [
    {
     "data": {
      "text/plain": [
       "0.010513799637556076"
      ]
     },
     "execution_count": 40,
     "metadata": {},
     "output_type": "execute_result"
    }
   ],
   "source": []
  },
  {
   "cell_type": "code",
   "execution_count": null,
   "metadata": {},
   "outputs": [],
   "source": []
  }
 ],
 "metadata": {
  "kernelspec": {
   "display_name": "Python 3",
   "language": "python",
   "name": "python3"
  },
  "language_info": {
   "codemirror_mode": {
    "name": "ipython",
    "version": 3
   },
   "file_extension": ".py",
   "mimetype": "text/x-python",
   "name": "python",
   "nbconvert_exporter": "python",
   "pygments_lexer": "ipython3",
   "version": "3.7.4"
  }
 },
 "nbformat": 4,
 "nbformat_minor": 2
}
